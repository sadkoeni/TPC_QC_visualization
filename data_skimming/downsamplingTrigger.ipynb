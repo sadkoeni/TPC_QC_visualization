{
 "cells": [
  {
   "cell_type": "code",
   "execution_count": null,
   "id": "2599e1cc",
   "metadata": {},
   "outputs": [],
   "source": [
    "from bokeh.io.showing import show\n",
    "from bokeh.models.callbacks import CustomJS\n",
    "from RootInteractive.InteractiveDrawing.bokeh.CDSAlias import CDSAlias\n",
    "from RootInteractive.InteractiveDrawing.bokeh.CustomJSNAryFunction import CustomJSNAryFunction\n",
    "from RootInteractive.InteractiveDrawing.bokeh.DownsamplerCDS import DownsamplerCDS\n",
    "\n",
    "from RootInteractive.InteractiveDrawing.bokeh.bokehDrawSA import bokehDrawSA\n",
    "from RootInteractive.InteractiveDrawing.bokeh.compileVarName import getOrMakeColumns\n",
    "\n",
    "from bokeh.models.sources import ColumnDataSource\n",
    "from bokeh.models.widgets import Slider\n",
    "from bokeh.models.layouts import Column\n",
    "\n",
    "from bokeh.plotting import Figure, output_file\n",
    "\n",
    "import pandas as pd\n",
    "import numpy as np\n",
    "from RootInteractive.Tools.compressArray import arrayCompressionRelative16\n"
   ]
  },
  {
   "cell_type": "code",
   "execution_count": null,
   "metadata": {},
   "outputs": [],
   "source": [
    "from RootInteractive.Tools.aliTreePlayer import *"
   ]
  },
  {
   "cell_type": "code",
   "execution_count": null,
   "id": "6ea76626",
   "metadata": {},
   "outputs": [],
   "source": [
    "import ROOT"
   ]
  },
  {
   "cell_type": "code",
   "execution_count": null,
   "metadata": {},
   "outputs": [],
   "source": [
    "f=ROOT.TFile.Open(\"testDownsamplingTrigger.root\")\n",
    "tree = f.Get(\"trigger\")  \n",
    "tree.Show(0)\n",
    "tree.SetAlias(\"weight1\",\"((triggerMask&0x1)>0)*max(weight,0.01)\")"
   ]
  },
  {
   "cell_type": "code",
   "execution_count": null,
   "metadata": {},
   "outputs": [],
   "source": [
    "df=tree2Panda(tree, [\".*\"], \"\", exclude=[\"C\"], columnMask=[[\"B\", \"b\"]])"
   ]
  },
  {
   "cell_type": "code",
   "execution_count": null,
   "metadata": {},
   "outputs": [],
   "source": [
    "df[\"isPion\"]=df[\"pdgCode\"]==211\n",
    "df[\"isKaon\"]=df[\"pdgCode\"]==321\n",
    "df[\"isProton\"]=df[\"pdgCode\"]==2212\n",
    "df[\"isLambda\"]=df[\"pdgCode\"]==3122\n",
    "#\n",
    "df[\"isPionW1\"]=(df[\"pdgCode\"]==211)*df[\"weight1\"]\n",
    "df[\"isKaonW1\"]=(df[\"pdgCode\"]==321)*df[\"weight1\"]\n",
    "df[\"isProtonW1\"]=(df[\"pdgCode\"]==2212)*df[\"weight1\"]\n",
    "df[\"isLambdaW1\"]=(df[\"pdgCode\"]==3122)*df[\"weight1\"]\n",
    "#df[\"weight1\"]=df.eval(\"((triggerMask&0x1)>0)*max(weight,0.01)\")"
   ]
  },
  {
   "cell_type": "code",
   "execution_count": null,
   "metadata": {},
   "outputs": [],
   "source": [
    "df[\"isPionW1\"]=df.eval(\"weight1*(pdgCode==211)\")\n",
    "df[\"isKaonW1\"]=df.eval(\"weight1*(pdgCode==321)\")\n",
    "df[\"isProtonW1\"]=df.eval(\"weight1*(pdgCode==2212)\")\n",
    "df[\"isLambdaW1\"]=df.eval(\"weight1*(pdgCode==3122)\")"
   ]
  },
  {
   "cell_type": "code",
   "execution_count": null,
   "metadata": {},
   "outputs": [],
   "source": [
    "parameterArray = [\n",
    "    {\"name\": \"size\", \"value\":7, \"range\":[0, 30]},\n",
    "    {\"name\": \"legendFontSize\", \"value\":\"13px\", \"options\":[\"9px\", \"11px\", \"13px\", \"15px\"]},\n",
    "    {\"name\": \"paramX\", \"value\":10, \"range\": [-20, 20]},\n",
    "    {\"name\": \"C_cut\", \"value\": 1, \"range\": [0, 1]}\n",
    "]"
   ]
  },
  {
   "cell_type": "code",
   "execution_count": null,
   "metadata": {},
   "outputs": [],
   "source": [
    "aliasArray = [\n",
    "    {\"name\": \"ratio_PionAll\", \"variables\": [\"entries\", \"entriesPion\"], \"func\": \"return entriesPion / entries\",\"context\": \"histoPt\"},\n",
    "    {\"name\": \"ratio_KaonAll\", \"variables\": [\"entries\", \"entriesKaon\"], \"func\": \"return entriesKaon / entries\",\"context\": \"histoPt\"},\n",
    "    {\"name\": \"ratio_ProtonAll\", \"variables\": [\"entries\", \"entriesProton\"], \"func\": \"return entriesProton / entries\",\"context\": \"histoPt\"},\n",
    "    {\"name\": \"ratio_LambdaAll\", \"variables\": [\"entries\", \"entriesLambda\"], \"func\": \"return entriesLambda / entries\",\"context\": \"histoPt\"},\n",
    "    #\n",
    "    {\"name\": \"entriesPionErr\", \"variables\": [\"entriesPion\"], \"func\": \"return Math.sqrt(entriesPion)\",\"context\": \"histoPt\"},\n",
    "    {\"name\": \"entriesKaonErr\", \"variables\": [\"entriesKaon\"], \"func\": \"return Math.sqrt(entriesKaon)\",\"context\": \"histoPt\"},\n",
    "    {\"name\": \"entriesProtonErr\", \"variables\": [\"entriesProton\"], \"func\": \"return Math.sqrt(entriesProton)\",\"context\": \"histoPt\"},\n",
    "    {\"name\": \"entriesLambdaErr\", \"variables\": [\"entriesLambda\"], \"func\": \"return Math.sqrt(entriesLambda)\",\"context\": \"histoPt\"},\n",
    "    #\n",
    "    {\"name\": \"ratio_PionAll\", \"variables\": [\"entries\", \"entriesPion\"], \"func\": \"return entriesPion / entries\",\"context\": \"histoPtWeighted\"},\n",
    "    {\"name\": \"ratio_KaonAll\", \"variables\": [\"entries\", \"entriesKaon\"], \"func\": \"return entriesKaon / entries\",\"context\": \"histoPtWeighted\"},\n",
    "    {\"name\": \"ratio_ProtonAll\", \"variables\": [\"entries\", \"entriesProton\"], \"func\": \"return entriesProton / entries\",\"context\": \"histoPtWeighted\"},\n",
    "    {\"name\": \"ratio_LambdaAll\", \"variables\": [\"entries\", \"entriesLambda\"], \"func\": \"return entriesLambda / entries\",\"context\": \"histoPtWeighted\"},\n",
    "    #\n",
    "    {\"name\": \"entriesPionErr\", \"variables\": [\"entriesPion\"], \"func\": \"return Math.sqrt(entriesPion*100)\",\"context\": \"histoPtWeighted\"},\n",
    "    {\"name\": \"entriesKaonErr\", \"variables\": [\"entriesKaon\"], \"func\": \"return Math.sqrt(entriesKaon*100)\",\"context\": \"histoPtWeighted\"},\n",
    "    {\"name\": \"entriesProtonErr\", \"variables\": [\"entriesProton\"], \"func\": \"return Math.sqrt(entriesProton*100)\",\"context\": \"histoPtWeighted\"},\n",
    "    {\"name\": \"entriesLambdaErr\", \"variables\": [\"entriesLambda\"], \"func\": \"return Math.sqrt(entriesLambda*100)\",\"context\": \"histoPtWeighted\"},\n",
    "]"
   ]
  },
  {
   "cell_type": "code",
   "execution_count": null,
   "metadata": {},
   "outputs": [],
   "source": [
    "histoArray = [\n",
    "     { \"name\": \"histoPt\", \"variables\": [\"pt\"], \"nbins\": 100, \"histograms\": {\n",
    "            \"entries\": None,\n",
    "            \"entriesPion\": {\"weights\": \"isPion\"},\n",
    "            \"entriesKaon\": {\"weights\": \"isKaon\"},\n",
    "            \"entriesProton\": {\"weights\": \"isProton\"},\n",
    "            \"entriesLambda\": {\"weights\": \"isLambda\"},\n",
    "        }\n",
    "    },\n",
    "    { \"name\": \"histoPtWeighted\", \"variables\": [\"pt\"], \"nbins\": 100, \"histograms\": {\n",
    "            \"entries\": {\"weights\": \"weight1\"},\n",
    "            \"entriesPion\": {\"weights\": \"isPionW1\"},\n",
    "            \"entriesKaon\": {\"weights\": \"isKaonW1\"},\n",
    "            \"entriesProton\": {\"weights\": \"isProtonW1\"},\n",
    "            \"entriesLambda\": {\"weights\": \"isLambdaW1\"},\n",
    "        }\n",
    "    }\n",
    "]\n"
   ]
  },
  {
   "cell_type": "code",
   "execution_count": null,
   "metadata": {},
   "outputs": [],
   "source": [
    "\n",
    "figureArray = [\n",
    "    [['bin_center'], ['entriesPion', 'entriesKaon',\"entriesProton\",\"entriesLambda\"], \n",
    "                     {\"source\":\"histoPt\",\"errY\":[\"entriesPionErr\",\"entriesKaonErr\",\"entriesProtonErr\",\"entriesLambdaErr\"] }],\n",
    "    [['bin_center'], ['ratio_PionAll',\"ratio_KaonAll\",\"ratio_ProtonAll\",\"ratio_LambdaAll\"], {\"source\":\"histoPt\"}],\n",
    "    [['bin_center'], ['entriesPion', 'entriesKaon',\"entriesProton\",\"entriesLambda\"], \n",
    "                     {\"source\":\"histoPtWeighted\",\"errY\":[\"entriesPionErr\",\"entriesKaonErr\",\"entriesProtonErr\",\"entriesLambdaErr\"] }],\n",
    "    [['bin_center'], ['ratio_PionAll',\"ratio_KaonAll\",\"ratio_ProtonAll\",\"ratio_LambdaAll\"], {\"source\":\"histoPtWeighted\"}],\n",
    "    {\"size\":\"size\"}\n",
    "]\n",
    "\n",
    "widgetParams=[\n",
    "    ['range', ['pt']],\n",
    "    ['multiSelect',[\"pdgCode\"]],\n",
    "    ['multiSelect',[\"triggerMask\"]],\n",
    "    #['slider','F', ['@min()','@max()','@med','@min()','@median()+3*#tlm()']], # to be implmneted\n",
    "    ['slider',[\"size\"]],\n",
    "    ['select',[\"legendFontSize\"]],\n",
    "    ['slider',[\"C_cut\"]],\n",
    "    ['slider',[\"paramX\"]],\n",
    "]\n",
    "\n",
    "widgetLayoutDesc={\n",
    "    \"Selection\": [[0, 1,2 ], {'sizing_mode': 'scale_width'}],\n",
    "    \"Graphics\": [[3,4,5,6], {'sizing_mode': 'scale_width'}],\n",
    "#    \"CustomJS functions\": [[7, 8]]\n",
    "    }\n",
    "\n",
    "figureLayoutDesc=[\n",
    "    [0, 1, {'commonX': 1, 'y_visible': 1, 'x_visible':1, 'plot_height': 200}],\n",
    "    [2, 3, {'commonX': 1, 'y_visible': 1, 'x_visible':1, 'plot_height': 200}],\n",
    "]\n",
    "tooltips = [(\"pt\", \"(@pt)\"),]\n",
    "\n",
    "#bokehDrawSA.fromArray(df, None, figureArray, widgetParams, layout=figureLayoutDesc, tooltips=tooltips, parameterArray=parameterArray,\n",
    "#                          widgetLayout=widgetLayoutDesc, sizing_mode=\"scale_width\", nPointRender=300, jsFunctionArray=jsFunctionArray,\n",
    "#                           aliasArray=aliasArray, histogramArray=histoArray)\n",
    "output_file(\"downsamplingTrigger.html\")\n",
    "\n",
    "bokehDrawSA.fromArray(df,\"pt<5\", figureArray, widgetParams, layout=figureLayoutDesc, tooltips=tooltips, parameterArray=parameterArray,\n",
    "                          widgetLayout=widgetLayoutDesc, sizing_mode=\"scale_width\", nPointRender=300, histogramArray=histoArray, \n",
    "                      arrayCompression=arrayCompressionRelative16, aliasArray=aliasArray)"
   ]
  },
  {
   "cell_type": "markdown",
   "metadata": {},
   "source": [
    "# backup"
   ]
  },
  {
   "cell_type": "code",
   "execution_count": null,
   "metadata": {},
   "outputs": [],
   "source": [
    "c=ROOT.TCanvas()\n",
    "tree.Draw(\"weight1\",\"triggerMask==1\")\n",
    "c.Draw()"
   ]
  },
  {
   "cell_type": "code",
   "execution_count": null,
   "metadata": {},
   "outputs": [],
   "source": []
  }
 ],
 "metadata": {
  "kernelspec": {
   "display_name": "Python 3",
   "language": "python",
   "name": "python3"
  },
  "language_info": {
   "codemirror_mode": {
    "name": "ipython",
    "version": 3
   },
   "file_extension": ".py",
   "mimetype": "text/x-python",
   "name": "python",
   "nbconvert_exporter": "python",
   "pygments_lexer": "ipython3",
   "version": "3.6.9"
  }
 },
 "nbformat": 4,
 "nbformat_minor": 5
}
